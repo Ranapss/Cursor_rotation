{
  "nbformat": 4,
  "nbformat_minor": 0,
  "metadata": {
    "colab": {
      "name": "make the graphs.ipynb",
      "version": "0.3.2",
      "provenance": [],
      "collapsed_sections": []
    },
    "kernelspec": {
      "name": "python3",
      "display_name": "Python 3"
    }
  },
  "cells": [
    {
      "cell_type": "code",
      "metadata": {
        "id": "kwwB24PqtJkH",
        "colab_type": "code",
        "colab": {}
      },
      "source": [
        "from google.colab import drive\n",
        "drive.mount('/content/drive')"
      ],
      "execution_count": 0,
      "outputs": []
    },
    {
      "cell_type": "code",
      "metadata": {
        "id": "54WEjxowtUpO",
        "colab_type": "code",
        "colab": {}
      },
      "source": [
        "import numpy as np \n",
        "import matplotlib as plt \n",
        "import pandas as pd \n",
        "import math \n",
        "from array import array\n",
        "import seaborn as sns\n",
        "import statsmodels.api as sm\n",
        "from google.colab import files\n",
        "from scipy import stats\n",
        "#uploaded = files.upload()"
      ],
      "execution_count": 0,
      "outputs": []
    },
    {
      "cell_type": "code",
      "metadata": {
        "id": "wAvRWwHStZFv",
        "colab_type": "code",
        "colab": {}
      },
      "source": [
        "cd drive/My Drive/data"
      ],
      "execution_count": 0,
      "outputs": []
    },
    {
      "cell_type": "code",
      "metadata": {
        "id": "ilGTuE1yj1Um",
        "colab_type": "code",
        "colab": {}
      },
      "source": [
        "!ls"
      ],
      "execution_count": 0,
      "outputs": []
    },
    {
      "cell_type": "code",
      "metadata": {
        "id": "BaaQpQvjk7XB",
        "colab_type": "code",
        "colab": {}
      },
      "source": [
        "j11 = np.load('')\n",
        "j12 = np.load('')\n",
        "f11 = np.load('')\n",
        "f12 = np.load('')\n",
        "f21 = np.load('')\n",
        "f22 = np.load('')\n",
        "j21 = np.load('')\n",
        "j22 = np.load('')\n",
        "j31 = np.load('')\n",
        "j32 = np.load('')\n",
        "f31 = np.load('')\n",
        "f32 = np.load('') \n",
        "j42 = np.load('')\n",
        "f42 = np.load('')\n",
        "j41 = np.load('')\n",
        "f41 = np.load('')\n",
        "f52 = np.load('')\n",
        "j52 = np.load('')\n",
        "j51 = np.load('')\n",
        "f51 = np.load('')\n",
        "j61 = np.load('')\n",
        "f62 = np.load('')"
      ],
      "execution_count": 0,
      "outputs": []
    },
    {
      "cell_type": "code",
      "metadata": {
        "id": "i3qHBA2dJJkj",
        "colab_type": "code",
        "colab": {}
      },
      "source": [
        "plt.rcParams['figure.figsize'] = [10, 10]\n",
        "x = abs(f22)\n",
        "time = np.arange(1,321,1)\n",
        "plt.pyplot.plot(time[:80],x[:80])\n",
        "plt.pyplot.plot(time[79:240],x[79:240])\n",
        "plt.pyplot.plot(time[239:],x[239:])"
      ],
      "execution_count": 0,
      "outputs": []
    },
    {
      "cell_type": "code",
      "metadata": {
        "id": "sqmXH-eiJbff",
        "colab_type": "code",
        "colab": {}
      },
      "source": [
        "avg1 = np.array(j12)\n",
        "avgd = np.mean(avg1.reshape(-1, 8), axis=1)\n",
        "plt.pyplot.plot(avgd)"
      ],
      "execution_count": 0,
      "outputs": []
    },
    {
      "cell_type": "markdown",
      "metadata": {
        "id": "SlnNM8zqGPUk",
        "colab_type": "text"
      },
      "source": [
        "Fancy Graphs"
      ]
    },
    {
      "cell_type": "code",
      "metadata": {
        "id": "3S_MUjhjlKzg",
        "colab_type": "code",
        "colab": {}
      },
      "source": [
        "\n",
        "tav,tste = standard_error(avg)\n",
        "tav2,tste2 = standard_error(avg2)"
      ],
      "execution_count": 0,
      "outputs": []
    },
    {
      "cell_type": "code",
      "metadata": {
        "id": "kzDjZYaNtmC4",
        "colab_type": "code",
        "colab": {}
      },
      "source": [
        "avg = f22\n",
        "avg1 = np.array(avg)\n",
        "avgd = np.mean(avg1.reshape(-1, 8), axis=1)\n",
        "plt.pyplot.plot(avgd)"
      ],
      "execution_count": 0,
      "outputs": []
    },
    {
      "cell_type": "code",
      "metadata": {
        "id": "sVaBHHJPo_2Y",
        "colab_type": "code",
        "colab": {}
      },
      "source": [
        "plt.rcParams['figure.figsize'] = [13, 13]\n",
        "x = f22\n",
        "time = np.arange(1,321,1)\n",
        "time2 = np.arange(1,41,1)\n",
        "time2 *= 8\n",
        "plt.pyplot.title('Single Participant Force Sensor Visual Field Disturbance Error',fontsize = 20)\n",
        "plt.pyplot.ylabel('Error ',fontsize = 20)\n",
        "plt.pyplot.xlabel('Trial #',fontsize = 20)\n",
        "plt.pyplot.plot(time[:80],x[:80],alpha=0.5)\n",
        "plt.pyplot.plot(time[79:240],x[79:240],alpha=0.5)\n",
        "plt.pyplot.plot(time[239:],x[239:],alpha=0.5)\n",
        "plt.pyplot.plot((time2-4),avgd,color = 'red')\n",
        "plt.pyplot.errorbar((time2-4),avgd,tste,ecolor= 'black')\n",
        "#plt.pyplot.savefig('g_f22_2.jpg')"
      ],
      "execution_count": 0,
      "outputs": []
    },
    {
      "cell_type": "code",
      "metadata": {
        "colab_type": "code",
        "id": "CBStqd5rdtE2",
        "colab": {}
      },
      "source": [
        "plt.rcParams['figure.figsize'] = [13, 13]\n",
        "x = avg\n",
        "time = np.arange(1,321,1)\n",
        "time2 = np.arange(1,41,1)\n",
        "time2 *= 8\n",
        "plt.pyplot.title('Comparison of Visual Field Disturbance for Force Sensor and Joystick',fontsize = 20)\n",
        "plt.pyplot.ylabel('Error ',fontsize = 20)\n",
        "plt.pyplot.xlabel('Trial #',fontsize = 20)\n",
        "plt.pyplot.plot(time[:80],x[:80],alpha=0.5)\n",
        "plt.pyplot.plot(time[79:240],x[79:240],alpha=0.5)\n",
        "plt.pyplot.plot(time[239:],x[239:],alpha=0.5)\n",
        "plt.pyplot.plot((time2-4),avgd)\n",
        "plt.pyplot.errorbar((time2-4),avgd,tste)\n",
        "\n",
        "\n",
        "x= avg2\n",
        "plt.pyplot.plot(time[:80],x[:80],alpha=0.5)\n",
        "plt.pyplot.plot(time[79:240],x[79:240],alpha=0.5)\n",
        "plt.pyplot.plot(time[239:],x[239:],alpha=0.5)\n",
        "plt.pyplot.plot((time2-4),avgd2)\n",
        "plt.pyplot.errorbar((time2-4),avgd2,tste2)\n",
        "#plt.pyplot.savefig('compare_vf.jpg')"
      ],
      "execution_count": 0,
      "outputs": []
    },
    {
      "cell_type": "code",
      "metadata": {
        "id": "pjBTTnu7fOH5",
        "colab_type": "code",
        "colab": {}
      },
      "source": [
        "plt.rcParams['figure.figsize'] = [13, 13]\n",
        "time = np.arange(1,321,1)\n",
        "time2 = np.arange(1,41,1)\n",
        "time2 *= 8\n",
        "plt.pyplot.plot(time,avg,alpha=0.5,label ='Joystick Visual Rotation Error')\n",
        "plt.pyplot.plot(time,avg2,alpha=0.5,label='Force Sensor Visual Rotation Error')\n",
        "plt.pyplot.errorbar((time2-4),avgd)\n",
        "plt.pyplot.errorbar((time2-4),avgd2,color='black')\n",
        "plt.pyplot.errorbar((time2-4),avgd,tste,label='8 Block Average for Joystick Visual Rotation Error')\n",
        "plt.pyplot.errorbar((time2-4),avgd2,tste2, label = '8 Block Average for Force Sensor Visual Rotation Error')\n",
        "\n",
        "plt.pyplot.title('Comparison of Visual Rotation for Force Sensor and Joystick',fontsize = 20)\n",
        "plt.pyplot.ylabel('Error ',fontsize = 20)\n",
        "plt.pyplot.xlabel('Trial #',fontsize = 20)\n",
        "\n",
        "\n",
        "plt.pyplot.legend(loc = 'lower left',fontsize=12)\n",
        "#plt.pyplot.savefig('Comparing_vr2.jpg')"
      ],
      "execution_count": 0,
      "outputs": []
    },
    {
      "cell_type": "code",
      "metadata": {
        "id": "Vb7BKdsNdNHU",
        "colab_type": "code",
        "colab": {}
      },
      "source": [
        "plt.rcParams['figure.figsize'] = [20, 20]\n",
        "x = avg\n",
        "time = np.arange(1,321,1)\n",
        "plt.pyplot.plot(time[:80],x[:80])\n",
        "plt.pyplot.plot(time[79:240],x[79:240])\n",
        "plt.pyplot.plot(time[239:],x[239:])"
      ],
      "execution_count": 0,
      "outputs": []
    },
    {
      "cell_type": "code",
      "metadata": {
        "id": "m8osJqBmhwNY",
        "colab_type": "code",
        "colab": {}
      },
      "source": [
        "plt.rcParams['figure.figsize'] = [13,13]\n",
        "x = avgd\n",
        "time = np.arange(1,41,1)\n",
        "\n",
        "plt.pyplot.plot(time[:10],x[:10],color = 'orange')\n",
        "\n",
        "plt.pyplot.plot(time[9:30],x[9:30],color='red')\n",
        "\n",
        "plt.pyplot.plot(time[29:],x[29:],color= 'green')\n",
        "plt.pyplot.errorbar(time[:10],avgd[:10],tste[:10],ecolor= 'black')\n",
        "plt.pyplot.errorbar(time[9:30],avgd[9:30],tste[9:30],ecolor= 'black')\n",
        "plt.pyplot.errorbar(time[29:],avgd[29:],tste[29:],ecolor= 'black')"
      ],
      "execution_count": 0,
      "outputs": []
    },
    {
      "cell_type": "markdown",
      "metadata": {
        "id": "W2G-ILfYAEj4",
        "colab_type": "text"
      },
      "source": [
        "Joystick Rotation "
      ]
    },
    {
      "cell_type": "code",
      "metadata": {
        "id": "9bai5rNouSHN",
        "colab_type": "code",
        "colab": {}
      },
      "source": [
        "avg = (j11+j21[:320]+j31+j41+j51+j61)/6\n",
        "plt.rcParams['figure.figsize'] = [10, 10]\n",
        "plt.pyplot.plot(avg)"
      ],
      "execution_count": 0,
      "outputs": []
    },
    {
      "cell_type": "code",
      "metadata": {
        "id": "DTLRIEsmW_Kz",
        "colab_type": "code",
        "colab": {}
      },
      "source": [
        "'''calcutate the ttest from the begining of the experimental trials and the end to see if any learning occured'''\n",
        "\n",
        "#avg[80:88]\n",
        "#avg[232:240]\n",
        "jr_ttest = stats.ttest_ind(avg[80:88],avg[232:240])\n"
      ],
      "execution_count": 0,
      "outputs": []
    },
    {
      "cell_type": "code",
      "metadata": {
        "id": "mGeE-UFuuqIT",
        "colab_type": "code",
        "colab": {}
      },
      "source": [
        "avg1 = np.array(avg)\n",
        "avgd = np.mean(avg1.reshape(-1, 8), axis=1)\n",
        "plt.pyplot.plot(avgd)"
      ],
      "execution_count": 0,
      "outputs": []
    },
    {
      "cell_type": "markdown",
      "metadata": {
        "id": "473hoas2AGju",
        "colab_type": "text"
      },
      "source": [
        "Joystick Distortion "
      ]
    },
    {
      "cell_type": "code",
      "metadata": {
        "id": "V9E_4dtbvpxh",
        "colab_type": "code",
        "colab": {}
      },
      "source": [
        "avg = (abs(j12)+abs(j22)+abs(j32)+abs(j42)+abs(j52))/5\n",
        "plt.rcParams['figure.figsize'] = [10, 10]\n",
        "plt.pyplot.plot(avg)\n"
      ],
      "execution_count": 0,
      "outputs": []
    },
    {
      "cell_type": "code",
      "metadata": {
        "colab_type": "code",
        "id": "SGxZxRPBhhwX",
        "colab": {}
      },
      "source": [
        "avg = (j12+j22+j32+j42+j52)/5\n",
        "plt.rcParams['figure.figsize'] = [10, 10]\n",
        "plt.pyplot.plot(avg)\n"
      ],
      "execution_count": 0,
      "outputs": []
    },
    {
      "cell_type": "code",
      "metadata": {
        "id": "0bE0aT0kwJG1",
        "colab_type": "code",
        "colab": {}
      },
      "source": [
        "avg1 = np.array(avg)\n",
        "avgd = np.mean(avg1.reshape(-1, 8), axis=1)\n",
        "plt.pyplot.plot(avgd)"
      ],
      "execution_count": 0,
      "outputs": []
    },
    {
      "cell_type": "code",
      "metadata": {
        "id": "NFPHSBb3VKtg",
        "colab_type": "code",
        "colab": {}
      },
      "source": [
        "'''calcutate the ttest from the begining of the experimental trials and the end to see if any learning occured'''\n",
        "\n",
        "#avg[80:88]\n",
        "#avg[232:240]\n",
        "jd_ttest=stats.ttest_ind(avg[80:88],avg[232:240])\n",
        "print(jd_ttest)"
      ],
      "execution_count": 0,
      "outputs": []
    },
    {
      "cell_type": "markdown",
      "metadata": {
        "id": "WVd1wN5TAMLx",
        "colab_type": "text"
      },
      "source": [
        "Force Rotation "
      ]
    },
    {
      "cell_type": "code",
      "metadata": {
        "id": "akuCIPYdwNGq",
        "colab_type": "code",
        "colab": {}
      },
      "source": [
        "avg2 = (f11+f21+f31+f41+f51)/5\n",
        "plt.rcParams['figure.figsize'] = [10, 10]\n",
        "plt.pyplot.plot(avg2)"
      ],
      "execution_count": 0,
      "outputs": []
    },
    {
      "cell_type": "code",
      "metadata": {
        "id": "hB8drh_4XFJG",
        "colab_type": "code",
        "colab": {}
      },
      "source": [
        "'''calcutate the ttest from the begining of the experimental trials and the end to see if any learning occured'''\n",
        "#avg[80:88]\n",
        "#avg[232:240]\n",
        "fr_ttest=stats.ttest_ind(avg2[80:88],avg2[232:240])"
      ],
      "execution_count": 0,
      "outputs": []
    },
    {
      "cell_type": "code",
      "metadata": {
        "id": "PBeG3kY0wZeb",
        "colab_type": "code",
        "colab": {}
      },
      "source": [
        "avg1 = np.array(avg2)\n",
        "avgd2 = np.mean(avg1.reshape(-1, 8), axis=1)\n",
        "plt.pyplot.plot(avgd2)"
      ],
      "execution_count": 0,
      "outputs": []
    },
    {
      "cell_type": "markdown",
      "metadata": {
        "id": "iYlARe9fAOcD",
        "colab_type": "text"
      },
      "source": [
        "Force Distortion"
      ]
    },
    {
      "cell_type": "code",
      "metadata": {
        "id": "u0ehb4oYwVAM",
        "colab_type": "code",
        "colab": {}
      },
      "source": [
        "avg = (abs(f12)+abs(f22)+abs(f32)+abs(f42)+abs(f52)+abs(f62))/6\n",
        "plt.rcParams['figure.figsize'] = [10, 10]\n",
        "plt.pyplot.plot(avg)"
      ],
      "execution_count": 0,
      "outputs": []
    },
    {
      "cell_type": "code",
      "metadata": {
        "colab_type": "code",
        "id": "t-1xb4-fhJ15",
        "colab": {}
      },
      "source": [
        "avg2 = (f12+f22+f32+f42+f52+f62)/6\n",
        "plt.rcParams['figure.figsize'] = [10, 10]\n",
        "plt.pyplot.plot(avg2)"
      ],
      "execution_count": 0,
      "outputs": []
    },
    {
      "cell_type": "code",
      "metadata": {
        "id": "vUvXJlgNXUrM",
        "colab_type": "code",
        "colab": {}
      },
      "source": [
        "'''calcutate the ttest from the begining of the experimental trials and the end to see if any learning occured'''\n",
        "\n",
        "#avg[80:88]\n",
        "#avg[232:240]\n",
        "fd_ttest=stats.ttest_ind(avg2[80:88],avg2[232:240])"
      ],
      "execution_count": 0,
      "outputs": []
    },
    {
      "cell_type": "code",
      "metadata": {
        "id": "AIquItG8wa9k",
        "colab_type": "code",
        "colab": {}
      },
      "source": [
        "avg1 = np.array(avg2)\n",
        "avgd2 = np.mean(avg1.reshape(-1, 8), axis=1)\n",
        "plt.pyplot.plot(avgd2)"
      ],
      "execution_count": 0,
      "outputs": []
    },
    {
      "cell_type": "code",
      "metadata": {
        "id": "peidU87KX6LE",
        "colab_type": "code",
        "colab": {}
      },
      "source": [
        "'''calculate ttest to compare force and joystick trials'''\n",
        "\n",
        "#avg[80:88]\n",
        "#avg[232:240]\n",
        "vr_begining = stats.ttest_ind(avg[80:88],avg2[80:88])\n",
        "vr_end = stats.ttest_ind(avg[232:240],avg2[232:240])"
      ],
      "execution_count": 0,
      "outputs": []
    },
    {
      "cell_type": "code",
      "metadata": {
        "id": "QxfxkNLxY2Aj",
        "colab_type": "code",
        "colab": {}
      },
      "source": [
        "'''calculate ttest to compare force and joystick trials'''\n",
        "\n",
        "#avg[80:88]\n",
        "#avg[232:240]\n",
        "vd_begining = stats.ttest_ind(avg[80:88],avg2[80:88])\n",
        "vd_end = stats.ttest_ind(avg[232:240],avg2[232:240])"
      ],
      "execution_count": 0,
      "outputs": []
    },
    {
      "cell_type": "code",
      "metadata": {
        "id": "oV4BHN0dZHXz",
        "colab_type": "code",
        "colab": {}
      },
      "source": [
        "print(jr_ttest)\n",
        "print(jd_ttest)\n",
        "print(fr_ttest)\n",
        "print(fd_ttest)\n",
        "print(vr_begining)\n",
        "print(vr_end)\n",
        "print(vd_begining)\n",
        "print(vd_end)"
      ],
      "execution_count": 0,
      "outputs": []
    },
    {
      "cell_type": "code",
      "metadata": {
        "id": "A-7_Wzo6Z1eI",
        "colab_type": "code",
        "outputId": "2d0ac130-11eb-433f-c812-bf15bff670cd",
        "colab": {
          "base_uri": "https://localhost:8080/",
          "height": 300
        }
      },
      "source": [
        "ttest = pd.DataFrame(data=(jr_ttest.pvalue,fr_ttest.pvalue,vr_begining.pvalue,vr_end.pvalue,jd_ttest.pvalue,fd_ttest.pvalue,vd_begining.pvalue,vd_end.pvalue))\n",
        "ttest.index = ('Joystick Rotation ttest','Force Sensor Rotation ttest','Joystick and Force Sensor Visual Rotation Begining Comparison','Joystick and Force Sensor Visual Rotation End Comparison',\n",
        "                 'Joystick Visual Field Disturbance ttest','Force Sensor Visual Field Disturbance ttest','Joystick and Force Sensor Visual Field Disturbance Begining Comparison',\n",
        "                 'Joystick and Force Sensor Visual Field Disturbance End Comparison')\n",
        "ttest.columns = ['pvalue']\n",
        "\n",
        "#dfStyler = ttest.style.set_properties(**{'text-align': 'left'})\n",
        "#dfStyler.set_table_styles([dict(selector='th', props=[('text-align', 'left')])])\n",
        "#ttest.pvalue.round(7)\n",
        "ttest"
      ],
      "execution_count": 0,
      "outputs": [
        {
          "output_type": "execute_result",
          "data": {
            "text/html": [
              "<div>\n",
              "<style scoped>\n",
              "    .dataframe tbody tr th:only-of-type {\n",
              "        vertical-align: middle;\n",
              "    }\n",
              "\n",
              "    .dataframe tbody tr th {\n",
              "        vertical-align: top;\n",
              "    }\n",
              "\n",
              "    .dataframe thead th {\n",
              "        text-align: right;\n",
              "    }\n",
              "</style>\n",
              "<table border=\"1\" class=\"dataframe\">\n",
              "  <thead>\n",
              "    <tr style=\"text-align: right;\">\n",
              "      <th></th>\n",
              "      <th>pvalue</th>\n",
              "    </tr>\n",
              "  </thead>\n",
              "  <tbody>\n",
              "    <tr>\n",
              "      <th>Joystick Rotation ttest</th>\n",
              "      <td>4.750941e-07</td>\n",
              "    </tr>\n",
              "    <tr>\n",
              "      <th>Force Sensor Rotation ttest</th>\n",
              "      <td>4.299817e-02</td>\n",
              "    </tr>\n",
              "    <tr>\n",
              "      <th>Joystick and Force Sensor Visual Rotation Begining Comparison</th>\n",
              "      <td>8.462064e-01</td>\n",
              "    </tr>\n",
              "    <tr>\n",
              "      <th>Joystick and Force Sensor Visual Rotation End Comparison</th>\n",
              "      <td>1.154341e-03</td>\n",
              "    </tr>\n",
              "    <tr>\n",
              "      <th>Joystick Visual Field Disturbance ttest</th>\n",
              "      <td>3.605170e-05</td>\n",
              "    </tr>\n",
              "    <tr>\n",
              "      <th>Force Sensor Visual Field Disturbance ttest</th>\n",
              "      <td>1.527537e-04</td>\n",
              "    </tr>\n",
              "    <tr>\n",
              "      <th>Joystick and Force Sensor Visual Field Disturbance Begining Comparison</th>\n",
              "      <td>3.895496e-02</td>\n",
              "    </tr>\n",
              "    <tr>\n",
              "      <th>Joystick and Force Sensor Visual Field Disturbance End Comparison</th>\n",
              "      <td>2.238220e-01</td>\n",
              "    </tr>\n",
              "  </tbody>\n",
              "</table>\n",
              "</div>"
            ],
            "text/plain": [
              "                                                          pvalue\n",
              "Joystick Rotation ttest                             4.750941e-07\n",
              "Force Sensor Rotation ttest                         4.299817e-02\n",
              "Joystick and Force Sensor Visual Rotation Begin...  8.462064e-01\n",
              "Joystick and Force Sensor Visual Rotation End C...  1.154341e-03\n",
              "Joystick Visual Field Disturbance ttest             3.605170e-05\n",
              "Force Sensor Visual Field Disturbance ttest         1.527537e-04\n",
              "Joystick and Force Sensor Visual Field Disturba...  3.895496e-02\n",
              "Joystick and Force Sensor Visual Field Disturba...  2.238220e-01"
            ]
          },
          "metadata": {
            "tags": []
          },
          "execution_count": 231
        }
      ]
    }
  ]
}