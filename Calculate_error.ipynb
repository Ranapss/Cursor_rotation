{
  "nbformat": 4,
  "nbformat_minor": 0,
  "metadata": {
    "colab": {
      "name": "Calculate error.ipynb",
      "version": "0.3.2",
      "provenance": [],
      "collapsed_sections": []
    },
    "kernelspec": {
      "name": "python3",
      "display_name": "Python 3"
    }
  },
  "cells": [
    {
      "cell_type": "code",
      "metadata": {
        "id": "kwwB24PqtJkH",
        "colab_type": "code",
        "colab": {}
      },
      "source": [
        "''' Mount My google dirve, only needed if storing the participant data in google drive'''\n",
        "from google.colab import drive\n",
        "drive.mount('/content/drive')"
      ],
      "execution_count": 0,
      "outputs": []
    },
    {
      "cell_type": "code",
      "metadata": {
        "id": "54WEjxowtUpO",
        "colab_type": "code",
        "colab": {}
      },
      "source": [
        "import numpy as np \n",
        "import matplotlib as plt \n",
        "import pandas as pd \n",
        "import math \n",
        "from array import array\n",
        "from google.colab import files\n",
        "#uploaded = files.upload()"
      ],
      "execution_count": 0,
      "outputs": []
    },
    {
      "cell_type": "code",
      "metadata": {
        "id": "wAvRWwHStZFv",
        "colab_type": "code",
        "colab": {}
      },
      "source": [
        "''' Only needed if mounting the google drive'''\n",
        "cd drive/My Drive/data\n",
        "!ls"
      ],
      "execution_count": 0,
      "outputs": []
    },
    {
      "cell_type": "code",
      "metadata": {
        "id": "mEv-qG-xto08",
        "colab_type": "code",
        "colab": {}
      },
      "source": [
        "def missing_numbers(num_list):\n",
        "      original_list = [x for x in range(num_list[0], num_list[-1] + 1)]\n",
        "      num_list = set(num_list)\n",
        "      return (list(num_list ^ set(original_list)))\n",
        "    \n",
        "def getAngle(c):\n",
        "    \"\"\"Counterclockwise angle in degrees around point (0,0) and starting at (0,0.5)\n",
        "        Returns a float between 0.0 and 360.0\"\"\"\n",
        "    ang = math.degrees(\n",
        "        math.atan2(c[1], -c[0]) - math.atan2(0.5, 0))\n",
        "    return ang + 360 if ang < 0 else ang\n",
        "\n",
        "\n",
        "def get_error(xpos,ypos,joyy,news,end):\n",
        "    error_array = []\n",
        "    time = []\n",
        "    for p in range(len(joyy)):\n",
        "        error_array.append(getAngle((xpos[p],ypos[p]))-getAngle((news[p][rad_idx[p]], joyy[p][rad_idx[p]])))\n",
        "\n",
        "        if abs(error_array[p]) > 180.0:\n",
        "            if error_array[p] > 0:\n",
        "                error_array[p] = 360 - error_array[p]\n",
        "            else:\n",
        "                error_array[p] = 360 + error_array[p]\n",
        "\n",
        "        time.append(p)\n",
        "    return error_array,time\n",
        "\n",
        "def get_error_vd():\n",
        "    \n",
        "    error = []\n",
        "    for x in range(len(polarx)):\n",
        "        most = 0\n",
        "        for y in range(len(polarx[x])-1):\n",
        "            if radius[x][y] < radius[x][y+1]:\n",
        "                p1 = np.array([0,0])\n",
        "                p2 = np.array([df.xpos[x],df.ypos[x]])\n",
        "                p3 = np.array([polarx[x][y],polary[x][y]])\n",
        "                d=np.cross(p2-p1,p3-p1)/np.linalg.norm(p2-p1)\n",
        "                #d = abs(d)\n",
        "                if abs(d) > abs(most):\n",
        "                    most = d \n",
        "        error.append(most)\n",
        "    return error"
      ],
      "execution_count": 0,
      "outputs": []
    },
    {
      "cell_type": "code",
      "metadata": {
        "id": "MHRwtPy7tgaM",
        "colab_type": "code",
        "colab": {}
      },
      "source": [
        "''' reading the different results csv'''\n",
        "re = pd.read_csv('mk_force_2_2019_Aug_03_1351.csv')\n",
        "vd = pd.read_csv('mk_force_2_2019_Aug_03_1351.csv')"
      ],
      "execution_count": 0,
      "outputs": []
    },
    {
      "cell_type": "code",
      "metadata": {
        "id": "5fdDheLfu0VH",
        "colab_type": "code",
        "colab": {}
      },
      "source": [
        "df = re"
      ],
      "execution_count": 0,
      "outputs": []
    },
    {
      "cell_type": "code",
      "metadata": {
        "id": "sACOiCyhtt1T",
        "colab_type": "code",
        "colab": {}
      },
      "source": [
        "joyy = []\n",
        "joyx =[]\n",
        "rawx = []\n",
        "rawy = []\n",
        "polarx = []\n",
        "polary = []\n",
        "radius = []\n",
        "ang = []\n",
        "xpos = []\n",
        "ypos = []\n",
        "smoothx = []\n",
        "smoothy = []\n",
        "for x in range(len(df)):\n",
        "    joyy.append(eval(df.joyy[x]))\n",
        "    joyx.append(eval(df.joyx[x]))\n",
        "    polarx.append(eval(df.polarx[x]))\n",
        "    polary.append(eval(df.polary[x]))\n",
        "    radius.append(eval(df.radius[x]))\n",
        "    ang.append(eval(df.angle[x]))\n",
        "    xpos.append(df.xpos[x])\n",
        "    ypos.append(df.ypos[x])\n",
        "    smoothx.append(eval(df.smoothx[x]))\n",
        "    smoothy.append(eval(df.smoothy[x]))"
      ],
      "execution_count": 0,
      "outputs": []
    },
    {
      "cell_type": "code",
      "metadata": {
        "id": "qJ9otWFNtwnq",
        "colab_type": "code",
        "colab": {}
      },
      "source": [
        "'''Only use for VD error'''\n",
        "polarx = smoothx\n",
        "polary = smoothy"
      ],
      "execution_count": 0,
      "outputs": []
    },
    {
      "cell_type": "code",
      "metadata": {
        "id": "_eSumFxPt-C3",
        "colab_type": "code",
        "colab": {}
      },
      "source": [
        "'''Use for Rotation error to get the radius indicies'''\n",
        "error = []\n",
        "time = []\n",
        "rad_idx = []\n",
        "ang = []\n",
        "for x in range(len(radius)):\n",
        "    for y in range(len(radius[x])):\n",
        "        if .15< radius[x][y] < .25:\n",
        "            rad_idx.append(y)\n",
        "            time.append(x)\n",
        "            break\n",
        "print(len(rad_idx))\n",
        "print(missing_numbers(time))\n",
        "\n",
        "print(len(rad_idx))"
      ],
      "execution_count": 0,
      "outputs": []
    },
    {
      "cell_type": "code",
      "metadata": {
        "id": "VtiFMxRquApU",
        "colab_type": "code",
        "colab": {}
      },
      "source": [
        "'''used to plot the data for a single trial, if there is a missing radius index this can help'''\n",
        "h = 233  # changes the trial your are visualizing \n",
        "start = 0 # start index within the trial \n",
        "end = 18 # ending index within the trial \n",
        " \n",
        "plt.rcParams['figure.figsize'] = [10, 10]\n",
        "plt.pyplot.scatter(polarx[h],polary[h])\n",
        "plt.pyplot.scatter(polarx[h][start:end],polary[h][start:end])\n",
        "plt.pyplot.scatter(df.xpos,df.ypos)\n",
        "plt.pyplot.scatter(df.xpos[h],df.ypos[h])\n",
        "\n",
        "x = np.linspace(-1,1,20)\n",
        "y = (df.ypos[h]/df.xpos[h])*x\n",
        "#print(df.ypos[h]/df.xpos[h])\n",
        "if abs(ypos[h]) == 0.91:\n",
        "    y = np.linspace(-1,1,20)\n",
        "    x = 0*y\n",
        "\n",
        "plt.pyplot.scatter(x,y)\n",
        "p1 = np.array([0,0])\n",
        "p2 = np.array([df.xpos[h],df.ypos[h]])\n",
        "p3 = np.array([polarx[h][end],polary[h][end]])\n",
        "d=np.cross(p2-p1,p3-p1)/np.linalg.norm(p2-p1)\n",
        "d = abs(d)\n",
        "print('distance:',d)\n",
        "print('traget angle is :', getAngle((xpos[h],ypos[h])))\n",
        "print('x :', df.xpos[h])\n",
        "print('y :', df.ypos[h])\n",
        "#print('radius at:', end, 'is:', radius[h][end])\n",
        "#print('angle for this point from csv:', ang[h][end])\n",
        "print('initial angle is :', getAngle((polarx[h][end], polary[h][end])))\n",
        "\n",
        "error = abs(getAngle((xpos[h],ypos[h]))-getAngle((polarx[h][end], polary[h][end])))\n",
        "if error > 180.0:\n",
        "    error = 360 - error\n",
        "    \n",
        "print('The error is : ', error, 'degrees')"
      ],
      "execution_count": 0,
      "outputs": []
    },
    {
      "cell_type": "markdown",
      "metadata": {
        "id": "6aMesS9duYut",
        "colab_type": "text"
      },
      "source": [
        "VD Error Code\n"
      ]
    },
    {
      "cell_type": "code",
      "metadata": {
        "id": "wzCOF1FnuEhc",
        "colab_type": "code",
        "colab": {}
      },
      "source": [
        "plt.rcParams['figure.figsize'] = [10, 10]\n",
        "e = get_error_vd()\n",
        "plt.pyplot.plot(e)"
      ],
      "execution_count": 0,
      "outputs": []
    },
    {
      "cell_type": "code",
      "metadata": {
        "id": "I9WBDXaQuHqQ",
        "colab_type": "code",
        "colab": {}
      },
      "source": [
        "avg1 = np.array(e)\n",
        "avgd = np.mean(avg1.reshape(-1, 8), axis=1)\n",
        "plt.pyplot.plot(avgd)"
      ],
      "execution_count": 0,
      "outputs": []
    },
    {
      "cell_type": "markdown",
      "metadata": {
        "id": "kkqsTNEYuR5G",
        "colab_type": "text"
      },
      "source": [
        "Rotation Error Code"
      ]
    },
    {
      "cell_type": "code",
      "metadata": {
        "id": "UxjH5ZpWuQcf",
        "colab_type": "code",
        "colab": {}
      },
      "source": [
        "plt.rcParams['figure.figsize'] = [10, 10]\n",
        "e,t = get_error(xpos,ypos,polary,polarx,7)\n",
        "plt.pyplot.plot(e)"
      ],
      "execution_count": 0,
      "outputs": []
    },
    {
      "cell_type": "code",
      "metadata": {
        "id": "mGeE-UFuuqIT",
        "colab_type": "code",
        "colab": {}
      },
      "source": [
        "avg1 = np.array(e)\n",
        "avgd = np.mean(avg1.reshape(-1, 8), axis=1)\n",
        "plt.pyplot.plot(avgd)"
      ],
      "execution_count": 0,
      "outputs": []
    }
  ]
}